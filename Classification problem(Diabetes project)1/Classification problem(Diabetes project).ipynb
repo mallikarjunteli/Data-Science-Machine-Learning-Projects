{
 "cells": [
  {
   "cell_type": "code",
   "execution_count": 1,
   "id": "0ebd0c62",
   "metadata": {},
   "outputs": [],
   "source": [
    "import pandas as pd\n",
    "import matplotlib.pyplot as plt"
   ]
  },
  {
   "cell_type": "markdown",
   "id": "6cbe2b65",
   "metadata": {},
   "source": [
    "### Load the data "
   ]
  },
  {
   "cell_type": "code",
   "execution_count": 2,
   "id": "d1ef2764",
   "metadata": {},
   "outputs": [
    {
     "data": {
      "text/html": [
       "<div>\n",
       "<style scoped>\n",
       "    .dataframe tbody tr th:only-of-type {\n",
       "        vertical-align: middle;\n",
       "    }\n",
       "\n",
       "    .dataframe tbody tr th {\n",
       "        vertical-align: top;\n",
       "    }\n",
       "\n",
       "    .dataframe thead th {\n",
       "        text-align: right;\n",
       "    }\n",
       "</style>\n",
       "<table border=\"1\" class=\"dataframe\">\n",
       "  <thead>\n",
       "    <tr style=\"text-align: right;\">\n",
       "      <th></th>\n",
       "      <th>num_preg</th>\n",
       "      <th>glucose_conc</th>\n",
       "      <th>diastolic_bp</th>\n",
       "      <th>thickness</th>\n",
       "      <th>insulin</th>\n",
       "      <th>bmi</th>\n",
       "      <th>diab_pred</th>\n",
       "      <th>age</th>\n",
       "      <th>diabetes_orig</th>\n",
       "      <th>skin</th>\n",
       "      <th>has_diabetes</th>\n",
       "      <th>diabetes</th>\n",
       "    </tr>\n",
       "  </thead>\n",
       "  <tbody>\n",
       "    <tr>\n",
       "      <th>0</th>\n",
       "      <td>6</td>\n",
       "      <td>148</td>\n",
       "      <td>72</td>\n",
       "      <td>35</td>\n",
       "      <td>0</td>\n",
       "      <td>33.6</td>\n",
       "      <td>0.627</td>\n",
       "      <td>50</td>\n",
       "      <td>1</td>\n",
       "      <td>1.3790</td>\n",
       "      <td>True</td>\n",
       "      <td>True</td>\n",
       "    </tr>\n",
       "    <tr>\n",
       "      <th>1</th>\n",
       "      <td>1</td>\n",
       "      <td>85</td>\n",
       "      <td>66</td>\n",
       "      <td>29</td>\n",
       "      <td>0</td>\n",
       "      <td>26.6</td>\n",
       "      <td>0.351</td>\n",
       "      <td>31</td>\n",
       "      <td>0</td>\n",
       "      <td>1.1426</td>\n",
       "      <td>False</td>\n",
       "      <td>False</td>\n",
       "    </tr>\n",
       "    <tr>\n",
       "      <th>2</th>\n",
       "      <td>8</td>\n",
       "      <td>183</td>\n",
       "      <td>64</td>\n",
       "      <td>0</td>\n",
       "      <td>0</td>\n",
       "      <td>23.3</td>\n",
       "      <td>0.672</td>\n",
       "      <td>32</td>\n",
       "      <td>1</td>\n",
       "      <td>0.0000</td>\n",
       "      <td>True</td>\n",
       "      <td>True</td>\n",
       "    </tr>\n",
       "    <tr>\n",
       "      <th>3</th>\n",
       "      <td>1</td>\n",
       "      <td>89</td>\n",
       "      <td>66</td>\n",
       "      <td>23</td>\n",
       "      <td>94</td>\n",
       "      <td>28.1</td>\n",
       "      <td>0.167</td>\n",
       "      <td>21</td>\n",
       "      <td>0</td>\n",
       "      <td>0.9062</td>\n",
       "      <td>False</td>\n",
       "      <td>False</td>\n",
       "    </tr>\n",
       "    <tr>\n",
       "      <th>4</th>\n",
       "      <td>0</td>\n",
       "      <td>137</td>\n",
       "      <td>40</td>\n",
       "      <td>35</td>\n",
       "      <td>168</td>\n",
       "      <td>43.1</td>\n",
       "      <td>2.288</td>\n",
       "      <td>33</td>\n",
       "      <td>1</td>\n",
       "      <td>1.3790</td>\n",
       "      <td>True</td>\n",
       "      <td>True</td>\n",
       "    </tr>\n",
       "  </tbody>\n",
       "</table>\n",
       "</div>"
      ],
      "text/plain": [
       "   num_preg  glucose_conc  diastolic_bp  thickness  insulin   bmi  diab_pred  \\\n",
       "0         6           148            72         35        0  33.6      0.627   \n",
       "1         1            85            66         29        0  26.6      0.351   \n",
       "2         8           183            64          0        0  23.3      0.672   \n",
       "3         1            89            66         23       94  28.1      0.167   \n",
       "4         0           137            40         35      168  43.1      2.288   \n",
       "\n",
       "   age  diabetes_orig    skin  has_diabetes  diabetes  \n",
       "0   50              1  1.3790          True      True  \n",
       "1   31              0  1.1426         False     False  \n",
       "2   32              1  0.0000          True      True  \n",
       "3   21              0  0.9062         False     False  \n",
       "4   33              1  1.3790          True      True  "
      ]
     },
     "execution_count": 2,
     "metadata": {},
     "output_type": "execute_result"
    }
   ],
   "source": [
    "df = pd.read_excel('pima-data.xlsx')\n",
    "df.head()"
   ]
  },
  {
   "cell_type": "markdown",
   "id": "b2991789",
   "metadata": {},
   "source": [
    "## Cleaning the data"
   ]
  },
  {
   "cell_type": "markdown",
   "id": "8221e085",
   "metadata": {},
   "source": [
    "#### Step1: Check whether is it having null values or not"
   ]
  },
  {
   "cell_type": "code",
   "execution_count": 3,
   "id": "0e6a3608",
   "metadata": {},
   "outputs": [
    {
     "data": {
      "text/plain": [
       "False"
      ]
     },
     "execution_count": 3,
     "metadata": {},
     "output_type": "execute_result"
    }
   ],
   "source": [
    "df.isnull().values.any()"
   ]
  },
  {
   "cell_type": "code",
   "execution_count": 4,
   "id": "2bff4023",
   "metadata": {},
   "outputs": [
    {
     "data": {
      "text/plain": [
       "False"
      ]
     },
     "execution_count": 4,
     "metadata": {},
     "output_type": "execute_result"
    }
   ],
   "source": [
    "df.isna().values.any()"
   ]
  },
  {
   "cell_type": "markdown",
   "id": "a0563473",
   "metadata": {},
   "source": [
    "#### Step 2: Check any coulmn is duplicated or not"
   ]
  },
  {
   "cell_type": "code",
   "execution_count": 5,
   "id": "9f0e9208",
   "metadata": {},
   "outputs": [
    {
     "data": {
      "text/plain": [
       "([<matplotlib.axis.YTick at 0x1f5d5509670>,\n",
       "  <matplotlib.axis.YTick at 0x1f5d54f5fd0>,\n",
       "  <matplotlib.axis.YTick at 0x1f5d543e9d0>,\n",
       "  <matplotlib.axis.YTick at 0x1f5d75535e0>,\n",
       "  <matplotlib.axis.YTick at 0x1f5d754c2b0>,\n",
       "  <matplotlib.axis.YTick at 0x1f5d75568e0>,\n",
       "  <matplotlib.axis.YTick at 0x1f5d7558070>,\n",
       "  <matplotlib.axis.YTick at 0x1f5d75587c0>,\n",
       "  <matplotlib.axis.YTick at 0x1f5d755a070>,\n",
       "  <matplotlib.axis.YTick at 0x1f5d7558c70>,\n",
       "  <matplotlib.axis.YTick at 0x1f5d7556df0>,\n",
       "  <matplotlib.axis.YTick at 0x1f5d755a670>],\n",
       " [Text(0, 0, 'num_preg'),\n",
       "  Text(0, 1, 'glucose_conc'),\n",
       "  Text(0, 2, 'diastolic_bp'),\n",
       "  Text(0, 3, 'thickness'),\n",
       "  Text(0, 4, 'insulin'),\n",
       "  Text(0, 5, 'bmi'),\n",
       "  Text(0, 6, 'diab_pred'),\n",
       "  Text(0, 7, 'age'),\n",
       "  Text(0, 8, 'diabetes_orig'),\n",
       "  Text(0, 9, 'skin'),\n",
       "  Text(0, 10, 'has_diabetes'),\n",
       "  Text(0, 11, 'diabetes')])"
      ]
     },
     "execution_count": 5,
     "metadata": {},
     "output_type": "execute_result"
    },
    {
     "data": {
      "image/png": "[encoded data removed]",
      "text/plain": [
       "<Figure size 1728x864 with 1 Axes>"
      ]
     },
     "metadata": {
      "needs_background": "light"
     },
     "output_type": "display_data"
    }
   ],
   "source": [
    "corr = df.corr()\n",
    "\n",
    "fig,ax = plt.subplots(figsize=(24,12))\n",
    "\n",
    "ax.matshow(corr)\n",
    "plt.xticks(range(len(corr.columns)),corr.columns,rotation=20)\n",
    "plt.yticks(range(len(corr.columns)),corr.columns)"
   ]
  },
  {
   "cell_type": "code",
   "execution_count": 6,
   "id": "9def2d7b",
   "metadata": {},
   "outputs": [],
   "source": [
    "import seaborn as sns"
   ]
  },
  {
   "cell_type": "code",
   "execution_count": 7,
   "id": "269acda2",
   "metadata": {},
   "outputs": [
    {
     "data": {
      "text/plain": [
       "<AxesSubplot:>"
      ]
     },
     "execution_count": 7,
     "metadata": {},
     "output_type": "execute_result"
    },
    {
     "data": {
      "image/png": "[encoded data removed]",
      "text/plain": [
       "<Figure size 432x288 with 2 Axes>"
      ]
     },
     "metadata": {
      "needs_background": "light"
     },
     "output_type": "display_data"
    }
   ],
   "source": [
    "sns.heatmap(df.corr())"
   ]
  },
  {
   "cell_type": "markdown",
   "id": "00615d6a",
   "metadata": {},
   "source": [
    "#### Deleteing correlated columns"
   ]
  },
  {
   "cell_type": "code",
   "execution_count": 8,
   "id": "2112545d",
   "metadata": {},
   "outputs": [],
   "source": [
    "del df['thickness']\n",
    "del df['diabetes_orig']\n",
    "del df['has_diabetes']\n",
    "\n",
    "# df.drop('thickness',axis=1,inplace=True)"
   ]
  },
  {
   "cell_type": "code",
   "execution_count": 9,
   "id": "07d28851",
   "metadata": {},
   "outputs": [
    {
     "data": {
      "text/html": [
       "<div>\n",
       "<style scoped>\n",
       "    .dataframe tbody tr th:only-of-type {\n",
       "        vertical-align: middle;\n",
       "    }\n",
       "\n",
       "    .dataframe tbody tr th {\n",
       "        vertical-align: top;\n",
       "    }\n",
       "\n",
       "    .dataframe thead th {\n",
       "        text-align: right;\n",
       "    }\n",
       "</style>\n",
       "<table border=\"1\" class=\"dataframe\">\n",
       "  <thead>\n",
       "    <tr style=\"text-align: right;\">\n",
       "      <th></th>\n",
       "      <th>num_preg</th>\n",
       "      <th>glucose_conc</th>\n",
       "      <th>diastolic_bp</th>\n",
       "      <th>insulin</th>\n",
       "      <th>bmi</th>\n",
       "      <th>diab_pred</th>\n",
       "      <th>age</th>\n",
       "      <th>skin</th>\n",
       "      <th>diabetes</th>\n",
       "    </tr>\n",
       "  </thead>\n",
       "  <tbody>\n",
       "    <tr>\n",
       "      <th>0</th>\n",
       "      <td>6</td>\n",
       "      <td>148</td>\n",
       "      <td>72</td>\n",
       "      <td>0</td>\n",
       "      <td>33.6</td>\n",
       "      <td>0.627</td>\n",
       "      <td>50</td>\n",
       "      <td>1.3790</td>\n",
       "      <td>True</td>\n",
       "    </tr>\n",
       "    <tr>\n",
       "      <th>1</th>\n",
       "      <td>1</td>\n",
       "      <td>85</td>\n",
       "      <td>66</td>\n",
       "      <td>0</td>\n",
       "      <td>26.6</td>\n",
       "      <td>0.351</td>\n",
       "      <td>31</td>\n",
       "      <td>1.1426</td>\n",
       "      <td>False</td>\n",
       "    </tr>\n",
       "    <tr>\n",
       "      <th>2</th>\n",
       "      <td>8</td>\n",
       "      <td>183</td>\n",
       "      <td>64</td>\n",
       "      <td>0</td>\n",
       "      <td>23.3</td>\n",
       "      <td>0.672</td>\n",
       "      <td>32</td>\n",
       "      <td>0.0000</td>\n",
       "      <td>True</td>\n",
       "    </tr>\n",
       "    <tr>\n",
       "      <th>3</th>\n",
       "      <td>1</td>\n",
       "      <td>89</td>\n",
       "      <td>66</td>\n",
       "      <td>94</td>\n",
       "      <td>28.1</td>\n",
       "      <td>0.167</td>\n",
       "      <td>21</td>\n",
       "      <td>0.9062</td>\n",
       "      <td>False</td>\n",
       "    </tr>\n",
       "    <tr>\n",
       "      <th>4</th>\n",
       "      <td>0</td>\n",
       "      <td>137</td>\n",
       "      <td>40</td>\n",
       "      <td>168</td>\n",
       "      <td>43.1</td>\n",
       "      <td>2.288</td>\n",
       "      <td>33</td>\n",
       "      <td>1.3790</td>\n",
       "      <td>True</td>\n",
       "    </tr>\n",
       "  </tbody>\n",
       "</table>\n",
       "</div>"
      ],
      "text/plain": [
       "   num_preg  glucose_conc  diastolic_bp  insulin   bmi  diab_pred  age  \\\n",
       "0         6           148            72        0  33.6      0.627   50   \n",
       "1         1            85            66        0  26.6      0.351   31   \n",
       "2         8           183            64        0  23.3      0.672   32   \n",
       "3         1            89            66       94  28.1      0.167   21   \n",
       "4         0           137            40      168  43.1      2.288   33   \n",
       "\n",
       "     skin  diabetes  \n",
       "0  1.3790      True  \n",
       "1  1.1426     False  \n",
       "2  0.0000      True  \n",
       "3  0.9062     False  \n",
       "4  1.3790      True  "
      ]
     },
     "execution_count": 9,
     "metadata": {},
     "output_type": "execute_result"
    }
   ],
   "source": [
    "df.head()"
   ]
  },
  {
   "cell_type": "code",
   "execution_count": 10,
   "id": "28732474",
   "metadata": {},
   "outputs": [
    {
     "data": {
      "text/plain": [
       "array([ True, False])"
      ]
     },
     "execution_count": 10,
     "metadata": {},
     "output_type": "execute_result"
    }
   ],
   "source": [
    "df['diabetes'].unique()"
   ]
  },
  {
   "cell_type": "markdown",
   "id": "ab551d59",
   "metadata": {},
   "source": [
    "#### Replacing True with 1 and False with 0"
   ]
  },
  {
   "cell_type": "code",
   "execution_count": 11,
   "id": "4e2d2d25",
   "metadata": {},
   "outputs": [],
   "source": [
    "dict_replace = {\n",
    "    'diabetes':{\n",
    "        True:1,\n",
    "        False:0\n",
    "    }\n",
    "}\n",
    "df.replace(dict_replace,inplace=True)"
   ]
  },
  {
   "cell_type": "code",
   "execution_count": 12,
   "id": "3e2ef384",
   "metadata": {},
   "outputs": [
    {
     "data": {
      "text/html": [
       "<div>\n",
       "<style scoped>\n",
       "    .dataframe tbody tr th:only-of-type {\n",
       "        vertical-align: middle;\n",
       "    }\n",
       "\n",
       "    .dataframe tbody tr th {\n",
       "        vertical-align: top;\n",
       "    }\n",
       "\n",
       "    .dataframe thead th {\n",
       "        text-align: right;\n",
       "    }\n",
       "</style>\n",
       "<table border=\"1\" class=\"dataframe\">\n",
       "  <thead>\n",
       "    <tr style=\"text-align: right;\">\n",
       "      <th></th>\n",
       "      <th>num_preg</th>\n",
       "      <th>glucose_conc</th>\n",
       "      <th>diastolic_bp</th>\n",
       "      <th>insulin</th>\n",
       "      <th>bmi</th>\n",
       "      <th>diab_pred</th>\n",
       "      <th>age</th>\n",
       "      <th>skin</th>\n",
       "      <th>diabetes</th>\n",
       "    </tr>\n",
       "  </thead>\n",
       "  <tbody>\n",
       "    <tr>\n",
       "      <th>0</th>\n",
       "      <td>6</td>\n",
       "      <td>148</td>\n",
       "      <td>72</td>\n",
       "      <td>0</td>\n",
       "      <td>33.6</td>\n",
       "      <td>0.627</td>\n",
       "      <td>50</td>\n",
       "      <td>1.3790</td>\n",
       "      <td>1</td>\n",
       "    </tr>\n",
       "    <tr>\n",
       "      <th>1</th>\n",
       "      <td>1</td>\n",
       "      <td>85</td>\n",
       "      <td>66</td>\n",
       "      <td>0</td>\n",
       "      <td>26.6</td>\n",
       "      <td>0.351</td>\n",
       "      <td>31</td>\n",
       "      <td>1.1426</td>\n",
       "      <td>0</td>\n",
       "    </tr>\n",
       "    <tr>\n",
       "      <th>2</th>\n",
       "      <td>8</td>\n",
       "      <td>183</td>\n",
       "      <td>64</td>\n",
       "      <td>0</td>\n",
       "      <td>23.3</td>\n",
       "      <td>0.672</td>\n",
       "      <td>32</td>\n",
       "      <td>0.0000</td>\n",
       "      <td>1</td>\n",
       "    </tr>\n",
       "    <tr>\n",
       "      <th>3</th>\n",
       "      <td>1</td>\n",
       "      <td>89</td>\n",
       "      <td>66</td>\n",
       "      <td>94</td>\n",
       "      <td>28.1</td>\n",
       "      <td>0.167</td>\n",
       "      <td>21</td>\n",
       "      <td>0.9062</td>\n",
       "      <td>0</td>\n",
       "    </tr>\n",
       "    <tr>\n",
       "      <th>4</th>\n",
       "      <td>0</td>\n",
       "      <td>137</td>\n",
       "      <td>40</td>\n",
       "      <td>168</td>\n",
       "      <td>43.1</td>\n",
       "      <td>2.288</td>\n",
       "      <td>33</td>\n",
       "      <td>1.3790</td>\n",
       "      <td>1</td>\n",
       "    </tr>\n",
       "  </tbody>\n",
       "</table>\n",
       "</div>"
      ],
      "text/plain": [
       "   num_preg  glucose_conc  diastolic_bp  insulin   bmi  diab_pred  age  \\\n",
       "0         6           148            72        0  33.6      0.627   50   \n",
       "1         1            85            66        0  26.6      0.351   31   \n",
       "2         8           183            64        0  23.3      0.672   32   \n",
       "3         1            89            66       94  28.1      0.167   21   \n",
       "4         0           137            40      168  43.1      2.288   33   \n",
       "\n",
       "     skin  diabetes  \n",
       "0  1.3790         1  \n",
       "1  1.1426         0  \n",
       "2  0.0000         1  \n",
       "3  0.9062         0  \n",
       "4  1.3790         1  "
      ]
     },
     "execution_count": 12,
     "metadata": {},
     "output_type": "execute_result"
    }
   ],
   "source": [
    "df.head()"
   ]
  },
  {
   "cell_type": "code",
   "execution_count": 13,
   "id": "8882112e",
   "metadata": {},
   "outputs": [
    {
     "name": "stdout",
     "output_type": "stream",
     "text": [
      "NUmber of diabetic Patient 268\n",
      "Number of Non diabetic patient 500\n",
      "34.89583333333333\n",
      "65.10416666666666\n"
     ]
    }
   ],
   "source": [
    "num_true = len(df.loc[df['diabetes'] == 1])\n",
    "num_false = len(df.loc[df['diabetes'] == 0])\n",
    "print(f'NUmber of diabetic Patient {num_true}')\n",
    "print(f'Number of Non diabetic patient {num_false}')\n",
    "\n",
    "per_true = (num_true/(num_true+num_false))*100\n",
    "print(per_true)\n",
    "\n",
    "per_false = (num_false/ (num_true+num_false))*100\n",
    "print(per_false)"
   ]
  },
  {
   "cell_type": "markdown",
   "id": "bcadd188",
   "metadata": {},
   "source": [
    "### Splitting data for training and testing"
   ]
  },
  {
   "cell_type": "code",
   "execution_count": 14,
   "id": "e0e3c822",
   "metadata": {},
   "outputs": [],
   "source": [
    "from sklearn.model_selection import train_test_split\n",
    "\n",
    "input_coulmns = [\"num_preg\",\"glucose_conc\",\"diastolic_bp\",\"insulin\",\"bmi\",\"diab_pred\",\"age\",\"skin\"]\n",
    "output_coumns = [\"diabetes\"]\n",
    "\n",
    "x = df[input_coulmns].values\n",
    "y = df[output_coumns].values\n",
    "\n",
    "x_train,x_test,y_train,y_test = train_test_split(x,y,test_size=0.3,random_state=42)"
   ]
  },
  {
   "cell_type": "code",
   "execution_count": 15,
   "id": "e2f9a25d",
   "metadata": {},
   "outputs": [],
   "source": [
    "# from imblearn.over_sampling import SMOTE\n",
    "# from collections import Counter\n",
    "# count = Counter(y_train.ravel())\n",
    "# print(count)\n",
    "\n",
    "# smt = SMOTE()\n",
    "# x_train_sm , y_train_sm = smt.fit_resample(x_train,y_train)\n",
    "\n",
    "# count1 = Counter(y_train_sm.ravel())\n",
    "# print(count1)"
   ]
  },
  {
   "cell_type": "code",
   "execution_count": 16,
   "id": "cb1e9ad7",
   "metadata": {},
   "outputs": [
    {
     "name": "stdout",
     "output_type": "stream",
     "text": [
      "Num_preg columns zero count is 111\n",
      "glucose_conc column zero count is 5\n",
      "diastolic_bpcolumn zero count is 35\n",
      "insulin column zero count is 374\n",
      "bmi column zero count is 11\n",
      "diab_pred column zero count is 0\n",
      "age column zero count is 0\n",
      "skin column zero count is 227\n"
     ]
    }
   ],
   "source": [
    "len_num_preg =len(df.loc[df['num_preg'] == 0])\n",
    "print(f'Num_preg columns zero count is {len_num_preg}')\n",
    "\n",
    "len_glucose_conc = len(df.loc[df['glucose_conc'] == 0])\n",
    "print(f\"glucose_conc column zero count is {len_glucose_conc}\")\n",
    "\n",
    "len_diastolic_bp = len(df.loc[df['diastolic_bp'] == 0])\n",
    "print(f\"diastolic_bpcolumn zero count is {len_diastolic_bp}\")\n",
    "\n",
    "len_insulin = len(df.loc[df['insulin'] == 0])\n",
    "print(f\"insulin column zero count is {len_insulin}\")\n",
    "\n",
    "len_bmi = len(df.loc[df['bmi'] == 0])\n",
    "print(f\"bmi column zero count is {len_bmi}\")\n",
    "\n",
    "len_diab_pred= len(df.loc[df['diab_pred'] == 0])\n",
    "print(f\"diab_pred column zero count is {len_diab_pred}\")\n",
    "\n",
    "len_age= len(df.loc[df['age'] == 0])\n",
    "print(f\"age column zero count is {len_age}\")\n",
    "\n",
    "len_skin= len(df.loc[df['skin'] == 0])\n",
    "print(f\"skin column zero count is {len_skin}\")"
   ]
  },
  {
   "cell_type": "code",
   "execution_count": 17,
   "id": "8d606c64",
   "metadata": {},
   "outputs": [],
   "source": [
    "from sklearn.impute import SimpleImputer"
   ]
  },
  {
   "cell_type": "code",
   "execution_count": 18,
   "id": "62ab270b",
   "metadata": {},
   "outputs": [],
   "source": [
    "fill_zeros = SimpleImputer(missing_values=0,strategy='mean')\n",
    "x_train = fill_zeros.fit_transform(x_train)\n",
    "x_test = fill_zeros.fit_transform(x_test)"
   ]
  },
  {
   "cell_type": "code",
   "execution_count": 19,
   "id": "712ac1aa",
   "metadata": {},
   "outputs": [],
   "source": [
    "from sklearn.naive_bayes import GaussianNB\n",
    "from sklearn import metrics"
   ]
  },
  {
   "cell_type": "code",
   "execution_count": 20,
   "id": "6aa9b29b",
   "metadata": {},
   "outputs": [
    {
     "name": "stdout",
     "output_type": "stream",
     "text": [
      "0.7541899441340782\n"
     ]
    }
   ],
   "source": [
    "nbmodel = GaussianNB()\n",
    "nbmodel.fit(x_train,y_train.ravel())\n",
    "\n",
    "predict_output = nbmodel.predict(x_train)\n",
    "\n",
    "accu = metrics.accuracy_score(y_train,predict_output)\n",
    "print(accu)"
   ]
  },
  {
   "cell_type": "code",
   "execution_count": 21,
   "id": "2d957404",
   "metadata": {},
   "outputs": [
    {
     "name": "stdout",
     "output_type": "stream",
     "text": [
      "0.7359307359307359\n"
     ]
    }
   ],
   "source": [
    "predict_out = nbmodel.predict(x_test)\n",
    "accu = metrics.accuracy_score(y_test,predict_out)\n",
    "print(accu)"
   ]
  },
  {
   "cell_type": "code",
   "execution_count": 22,
   "id": "f1be820d",
   "metadata": {},
   "outputs": [
    {
     "name": "stdout",
     "output_type": "stream",
     "text": [
      "[[118  33]\n",
      " [ 28  52]]\n"
     ]
    }
   ],
   "source": [
    "print(metrics.confusion_matrix(y_test,predict_out))"
   ]
  },
  {
   "cell_type": "code",
   "execution_count": 23,
   "id": "c0bd9ac9",
   "metadata": {},
   "outputs": [
    {
     "name": "stdout",
     "output_type": "stream",
     "text": [
      "              precision    recall  f1-score   support\n",
      "\n",
      "           0       0.81      0.78      0.79       151\n",
      "           1       0.61      0.65      0.63        80\n",
      "\n",
      "    accuracy                           0.74       231\n",
      "   macro avg       0.71      0.72      0.71       231\n",
      "weighted avg       0.74      0.74      0.74       231\n",
      "\n"
     ]
    }
   ],
   "source": [
    "print(metrics.classification_report(y_test,predict_out))"
   ]
  },
  {
   "cell_type": "markdown",
   "id": "8ea3cc30",
   "metadata": {},
   "source": [
    "### random Forest"
   ]
  },
  {
   "cell_type": "code",
   "execution_count": 24,
   "id": "f08c579c",
   "metadata": {},
   "outputs": [],
   "source": [
    "from sklearn.ensemble import RandomForestClassifier"
   ]
  },
  {
   "cell_type": "markdown",
   "id": "67005e36",
   "metadata": {},
   "source": [
    "### Logistic Regression"
   ]
  },
  {
   "cell_type": "code",
   "execution_count": 25,
   "id": "546868b6",
   "metadata": {},
   "outputs": [],
   "source": [
    "from sklearn.linear_model import LogisticRegression"
   ]
  },
  {
   "cell_type": "markdown",
   "id": "1b3c0c6b",
   "metadata": {},
   "source": [
    "### Decision Tree"
   ]
  },
  {
   "cell_type": "code",
   "execution_count": 26,
   "id": "7358c260",
   "metadata": {},
   "outputs": [],
   "source": [
    "from sklearn.tree import DecisionTreeClassifier"
   ]
  },
  {
   "cell_type": "markdown",
   "id": "e16babbf",
   "metadata": {},
   "source": [
    "### KNN -- K nearest Neighbour"
   ]
  },
  {
   "cell_type": "code",
   "execution_count": 27,
   "id": "023ef506",
   "metadata": {},
   "outputs": [],
   "source": [
    "from sklearn.neighbors import KNeighborsClassifier"
   ]
  },
  {
   "cell_type": "markdown",
   "id": "76993481",
   "metadata": {},
   "source": [
    "### SVM --- Support Vector model"
   ]
  },
  {
   "cell_type": "code",
   "execution_count": 28,
   "id": "785071b1",
   "metadata": {},
   "outputs": [],
   "source": [
    "from sklearn.svm import SVC"
   ]
  },
  {
   "cell_type": "code",
   "execution_count": null,
   "id": "f69cad40",
   "metadata": {},
   "outputs": [],
   "source": []
  }
 ],
 "metadata": {
  "kernelspec": {
   "display_name": "Python 3 (ipykernel)",
   "language": "python",
   "name": "python3"
  },
  "language_info": {
   "codemirror_mode": {
    "name": "ipython",
    "version": 3
   },
   "file_extension": ".py",
   "mimetype": "text/x-python",
   "name": "python",
   "nbconvert_exporter": "python",
   "pygments_lexer": "ipython3",
   "version": "3.9.8"
  }
 },
 "nbformat": 4,
 "nbformat_minor": 5
}
